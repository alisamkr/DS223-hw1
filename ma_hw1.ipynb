{
  "cells": [
    {
      "cell_type": "markdown",
      "metadata": {
        "id": "qcV6pmP6Zncc"
      },
      "source": [
        "1.   Apple Vision Pro is a mixed-reality headset combining augmented reality (AR) and virtual reality (VR). It provides a high-resolution display, spatial audio, and immersive user experiences, targeting various productivity, entertainment, and communication applications.\n",
        "\n",
        "https://time.com/collection/best-inventions-2023/6323191/apple-vision-pro/"
      ]
    },
    {
      "cell_type": "markdown",
      "metadata": {
        "id": "yjIc1adnZ5H1"
      },
      "source": [
        "2.\n",
        "PlayStation VR (PSVR), released in 2016, is a virtual reality headset made for Sony’s PlayStation consoles. It gave gamers an affordable way to experience VR, bringing immersive, 360-degree gaming to a wider audience. By working with an already popular gaming system, PSVR became a hit among gamers and helped make VR more well-known, though its use stayed mainly in the gaming world.\n",
        "\n",
        "  On the other hand, Apple Vision Pro takes things further by combining virtual reality (VR) and augmented reality (AR). While PSVR is mainly for gaming, Vision Pro is built for much more, including entertainment, work, and communication. Apple Vision Pro is likely to reach a larger group of users, not just gamers but also professionals and everyday people who want new, immersive ways to interact with the digital world. Unlike PSVR’s focus on gaming, Vision Pro aims to be useful in many areas of life, making it appealing to a broader audience.\n",
        "https://www.playstation.com/en-us/ps-vr/\n"
      ]
    },
    {
      "cell_type": "markdown",
      "metadata": {
        "id": "m4HKIWRqbta_"
      },
      "source": [
        "3.\n",
        " PSVR - https://www.statista.com/statistics/987693/psvr-unit-sales/\n",
        "\n",
        "  Vision pro - https://www.statista.com/statistics/1398458/apple-vision-pro-shipments/\n",
        "  "
      ]
    },
    {
      "cell_type": "code",
      "execution_count": 3,
      "metadata": {
        "colab": {
          "base_uri": "https://localhost:8080/"
        },
        "id": "q5a_duTbaPd1",
        "outputId": "a96c99c6-8eb3-4861-c0bf-699225fe0b98"
      },
      "outputs": [
        {
          "name": "stdout",
          "output_type": "stream",
          "text": [
            "Estimated Bass Model Parameters: p = 0.09, q = 0.9, M = 9\n"
          ]
        }
      ],
      "source": [
        "#4\n",
        "import numpy as np\n",
        "from scipy.optimize import curve_fit\n",
        "import matplotlib.pyplot as plt\n",
        "\n",
        "def bass_model(t, p, q, M):\n",
        "    exp_term = np.exp(-(p + q) * t)\n",
        "    F_t = (1 - exp_term)/(1 + (q / p) * exp_term)\n",
        "    return M * F_t\n",
        "\n",
        "time = np.array([4, 14, 22, 29, 39])  #months since launch\n",
        "adoption_data = np.array([0.92, 2.00, 3.00, 4.20, 5.00])\n",
        "\n",
        "best_params = (0, 0, 0)\n",
        "min_error = float('inf')\n",
        "\n",
        "#going through possible values for p, q, and M\n",
        "for p in np.arange(0.01, 0.1, 0.01):\n",
        "    for q in np.arange(0.1, 1.0, 0.1):\n",
        "        for M in np.arange(5, 10, 1):\n",
        "            predictions = bass_model(time, p, q, M)\n",
        "            error = np.sum((adoption_data - predictions) ** 2)\n",
        "            if error <= min_error:\n",
        "                best_params = (p, q, M)\n",
        "\n",
        "p, q, M = best_params\n",
        "print(f\"Estimated Bass Model Parameters: p = {p}, q = {q}, M = {M}\")\n"
      ]
    },
    {
      "cell_type": "code",
      "execution_count": 4,
      "metadata": {
        "colab": {
          "base_uri": "https://localhost:8080/",
          "height": 449
        },
        "id": "U5rjr57WVYTt",
        "outputId": "0ae2f432-c206-40ef-9259-ada4da38306f"
      },
      "outputs": [
        {
          "data": {
            "image/png": "[encoded data removed]",
            "text/plain": [
              "<Figure size 432x288 with 1 Axes>"
            ]
          },
          "metadata": {
            "needs_background": "light"
          },
          "output_type": "display_data"
        }
      ],
      "source": [
        "#5\n",
        "time_future = np.arange(1, 8, 1)  #8 years\n",
        "#for less than 8 years the total result was significantly lower than 12 million\n",
        "M_vision_pro = 12  #market potential 12 million (source in part 3)\n",
        "vision_pro_prediction = bass_model(time_future, p, q, M_vision_pro)\n",
        "\n",
        "plt.plot(time_future, vision_pro_prediction, label=\"Predicted Adoption for Apple Vision Pro\")\n",
        "plt.xlabel('Time (years)')\n",
        "plt.ylabel('Number of Adopters (in millions)')\n",
        "plt.legend()\n",
        "plt.show()\n"
      ]
    },
    {
      "cell_type": "markdown",
      "metadata": {
        "id": "Ry7ScPOBZK4T"
      },
      "source": [
        "6. Both are internationally recognized brands. Their strong reputations mean they can attract users across various markets. They won't have competition because  there are no competing products in other countries that offer the same level of compatibility and quality."
      ]
    },
    {
      "cell_type": "code",
      "execution_count": 6,
      "metadata": {
        "colab": {
          "base_uri": "https://localhost:8080/"
        },
        "id": "qYAlPoLMY1S3",
        "outputId": "08e787b3-cccb-4c7e-c071-81db4c61fee2"
      },
      "outputs": [
        {
          "name": "stdout",
          "output_type": "stream",
          "text": [
            "Year 1: 2.75 million new adopters\n",
            "Year 2: 3.18 million new adopters\n",
            "Year 3: 2.36 million new adopters\n",
            "Year 4: 1.24 million new adopters\n",
            "Year 5: 0.53 million new adopters\n",
            "Year 6: 0.21 million new adopters\n"
          ]
        }
      ],
      "source": [
        "#7\n",
        "\n",
        "for year in range(1, len(vision_pro_prediction)):\n",
        "    new_adopters = round(vision_pro_prediction[year] - vision_pro_prediction[year - 1], 2)\n",
        "    print(f\"Year {year}: {new_adopters} million new adopters\")"
      ]
    }
  ],
  "metadata": {
    "colab": {
      "provenance": []
    },
    "kernelspec": {
      "display_name": "base",
      "language": "python",
      "name": "python3"
    },
    "language_info": {
      "codemirror_mode": {
        "name": "ipython",
        "version": 3
      },
      "file_extension": ".py",
      "mimetype": "text/x-python",
      "name": "python",
      "nbconvert_exporter": "python",
      "pygments_lexer": "ipython3",
      "version": "3.9.7"
    }
  },
  "nbformat": 4,
  "nbformat_minor": 0
}
